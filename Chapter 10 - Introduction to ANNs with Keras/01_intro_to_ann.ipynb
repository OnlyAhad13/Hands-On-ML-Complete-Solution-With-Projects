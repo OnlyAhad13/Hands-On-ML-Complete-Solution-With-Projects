{
 "cells": [
  {
   "cell_type": "code",
   "execution_count": 4,
   "metadata": {},
   "outputs": [],
   "source": [
    "import numpy as np\n",
    "import matplotlib.pyplot as plt\n",
    "import tensorflow as tf\n",
    "from tensorflow import keras\n",
    "\n",
    "np.random.seed(42)\n",
    "tf.random.set_seed(42)"
   ]
  },
  {
   "cell_type": "code",
   "execution_count": 5,
   "metadata": {},
   "outputs": [
    {
     "data": {
      "image/png": "[encoded data removed]",
      "text/plain": [
       "<Figure size 640x480 with 1 Axes>"
      ]
     },
     "metadata": {},
     "output_type": "display_data"
    }
   ],
   "source": [
    "#Step Function\n",
    "\n",
    "def heaviside(z):\n",
    "    return (z >= 0).astype(int)\n",
    "\n",
    "#Visualize\n",
    "z = np.linspace(-5, 5, 200)\n",
    "plt.plot(z, heaviside(z), label='step function')\n",
    "plt.title(\"Heaviside Step Function\")\n",
    "plt.grid(True)\n",
    "plt.legend()\n",
    "plt.show()"
   ]
  },
  {
   "cell_type": "code",
   "execution_count": 6,
   "metadata": {},
   "outputs": [],
   "source": [
    "#Perceptron Implementation\n",
    "\n",
    "class Perceptron:\n",
    "    def __init__(self, n_inputs, learning_rate=0.1):\n",
    "        self.weights = np.random.randn(n_inputs+1) # +1 for bias\n",
    "        self.lr = learning_rate\n",
    "\n",
    "    def predict(self, X):\n",
    "        X_b = np.c_[np.ones((X.shape[0], 1)), X]\n",
    "        return heaviside(X_b @ self.weights)\n",
    "    \n",
    "    def train(self, X, y, n_epochs=10):\n",
    "        X_b = np.c_[np.ones((X.shape[0], 1)), X]\n",
    "        for epoch in range(n_epochs):\n",
    "            for xi , target in zip(X_b, y):\n",
    "                y_pred = heaviside(np.dot(xi, self.weights))\n",
    "                self.weights += self.lr*(target-y_pred)*xi #Widrow Hoff rule\n"
   ]
  },
  {
   "cell_type": "code",
   "execution_count": 14,
   "metadata": {},
   "outputs": [
    {
     "data": {
      "text/plain": [
       "array([0, 0, 0, 1])"
      ]
     },
     "execution_count": 14,
     "metadata": {},
     "output_type": "execute_result"
    }
   ],
   "source": [
    "X = np.array([[0,0], [0,1], [1,0], [1,1]])\n",
    "y = np.array([0, 0, 0, 1])\n",
    "\n",
    "percep = Perceptron(n_inputs=2)\n",
    "percep.train(X,y)\n",
    "percep.predict(X)"
   ]
  },
  {
   "cell_type": "code",
   "execution_count": 15,
   "metadata": {},
   "outputs": [
    {
     "data": {
      "text/plain": [
       "array([1, 1, 1, 0])"
      ]
     },
     "execution_count": 15,
     "metadata": {},
     "output_type": "execute_result"
    }
   ],
   "source": [
    "# XOR_GATE (perceptron fails)\n",
    "percep_xor = Perceptron(n_inputs=2)\n",
    "y_xor = np.array([0, 1, 1, 0])\n",
    "percep_xor.train(X, y_xor)\n",
    "percep_xor.predict(X)"
   ]
  }
 ],
 "metadata": {
  "kernelspec": {
   "display_name": "ml_global",
   "language": "python",
   "name": "python3"
  },
  "language_info": {
   "codemirror_mode": {
    "name": "ipython",
    "version": 3
   },
   "file_extension": ".py",
   "mimetype": "text/x-python",
   "name": "python",
   "nbconvert_exporter": "python",
   "pygments_lexer": "ipython3",
   "version": "3.11.11"
  }
 },
 "nbformat": 4,
 "nbformat_minor": 2
}
